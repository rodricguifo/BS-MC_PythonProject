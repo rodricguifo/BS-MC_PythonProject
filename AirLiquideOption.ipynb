{
 "cells": [
  {
   "cell_type": "markdown",
   "id": "db595e43-8263-43fd-a463-1ecf7ea76309",
   "metadata": {},
   "source": [
    "#### PRICING EUROPEAN OPTION ON AIR LIQUIDE"
   ]
  },
  {
   "cell_type": "code",
   "execution_count": null,
   "id": "56371b3b-f00a-4676-9df3-e76cf967fb70",
   "metadata": {},
   "outputs": [],
   "source": []
  }
 ],
 "metadata": {
  "kernelspec": {
   "display_name": "Python 3 (ipykernel)",
   "language": "python",
   "name": "python3"
  },
  "language_info": {
   "codemirror_mode": {
    "name": "ipython",
    "version": 3
   },
   "file_extension": ".py",
   "mimetype": "text/x-python",
   "name": "python",
   "nbconvert_exporter": "python",
   "pygments_lexer": "ipython3",
   "version": "3.12.4"
  }
 },
 "nbformat": 4,
 "nbformat_minor": 5
}
